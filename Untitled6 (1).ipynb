{
  "cells": [
    {
      "cell_type": "markdown",
      "metadata": {
        "id": "Z55EC5wVOp9t"
      },
      "source": []
    },
    {
      "cell_type": "code",
      "execution_count": null,
      "metadata": {
        "colab": {
          "base_uri": "https://localhost:8080/"
        },
        "id": "sCpDr-lMK9uN",
        "outputId": "1caedb62-1de5-4ceb-acd4-20be02df44dd"
      },
      "outputs": [
        {
          "name": "stdout",
          "output_type": "stream",
          "text": [
            "0 jakarta\n",
            "1 surabaya\n",
            "2 depok\n",
            "3 bekasi\n",
            "4 solo\n",
            "5 jogjakarta\n",
            "6 semarang\n",
            "7 makasar\n"
          ]
        }
      ],
      "source": [
        "listkota = ['jakarta','surabaya','depok','bekasi','solo','jogjakarta','semarang','makasar']\n",
        "for i, kota in enumerate(listkota):\n",
        "  print(i,kota)"
      ]
    },
    {
      "cell_type": "code",
      "execution_count": null,
      "metadata": {
        "colab": {
          "base_uri": "https://localhost:8080/"
        },
        "id": "q4oXvtCYKPHy",
        "outputId": "a086139e-e168-4d3a-b1a6-879f263f473c"
      },
      "outputs": [
        {
          "name": "stdout",
          "output_type": "stream",
          "text": [
            "pertualangan ke - 0\n",
            "pertualangan ke - 1\n",
            "pertualangan ke - 2\n",
            "pertualangan ke - 3\n",
            "pertualangan ke - 4\n"
          ]
        }
      ],
      "source": [
        "## 0 sampai 4\n",
        "for i in range(5):\n",
        "  print(\"pertualangan ke -\", i)"
      ]
    },
    {
      "cell_type": "code",
      "execution_count": null,
      "metadata": {
        "colab": {
          "background_save": true
        },
        "id": "J1lbUWWPPTjU",
        "outputId": "a4ccce30-4db8-4f79-9f3d-0ead055a61ba"
      },
      "outputs": [
        {
          "name": "stdout",
          "output_type": "stream",
          "text": [
            "i = 0\n",
            "i = 1\n",
            "i = 2\n",
            "i = 3\n",
            "i = 4\n"
          ]
        }
      ],
      "source": [
        "## 10 sampai 20\n",
        "fo"
      ]
    }
  ],
  "metadata": {
    "colab": {
      "provenance": []
    },
    "kernelspec": {
      "display_name": "Python 3",
      "name": "python3"
    },
    "language_info": {
      "name": "python"
    }
  },
  "nbformat": 4,
  "nbformat_minor": 0
}