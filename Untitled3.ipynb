{
  "nbformat": 4,
  "nbformat_minor": 0,
  "metadata": {
    "colab": {
      "provenance": []
    },
    "kernelspec": {
      "name": "python3",
      "display_name": "Python 3"
    },
    "language_info": {
      "name": "python"
    }
  },
  "cells": [
    {
      "cell_type": "code",
      "execution_count": 14,
      "metadata": {
        "colab": {
          "base_uri": "https://localhost:8080/"
        },
        "id": "YIt3OYFJmkMh",
        "outputId": "9445f769-41e5-45a9-b4a3-4615b2178b9b"
      },
      "outputs": [
        {
          "output_type": "stream",
          "name": "stdout",
          "text": [
            "kode perogram ini akan diesekusi\n"
          ]
        }
      ],
      "source": [
        " if True:\n",
        "   print('kode perogram ini akan diesekusi')"
      ]
    },
    {
      "cell_type": "code",
      "source": [
        "if False:\n",
        "   print('kode program ini tidak akan dieksekusi')"
      ],
      "metadata": {
        "id": "xU78yprGovPT"
      },
      "execution_count": 10,
      "outputs": []
    },
    {
      "cell_type": "code",
      "source": [],
      "metadata": {
        "id": "HdbtBsffrtfd"
      },
      "execution_count": 1,
      "outputs": []
    },
    {
      "cell_type": "code",
      "source": [
        "print('kode perogram ini akan selalu dieksekusikerena tidak termasukpada ')"
      ],
      "metadata": {
        "colab": {
          "base_uri": "https://localhost:8080/"
        },
        "id": "Vi8U3vQ8pH9g",
        "outputId": "a77f33ea-582f-4e9b-87e7-b0618b66666e"
      },
      "execution_count": 2,
      "outputs": [
        {
          "output_type": "stream",
          "name": "stdout",
          "text": [
            "kode perogram ini akan selalu dieksekusikerena tidak termasukpada \n"
          ]
        }
      ]
    },
    {
      "cell_type": "code",
      "source": [
        "nilai = 0\n",
        "print ('Nilai anda adalah:', nilai, '\\n')"
      ],
      "metadata": {
        "colab": {
          "base_uri": "https://localhost:8080/"
        },
        "id": "rBOZAHLnpYMS",
        "outputId": "ef741567-b69f-4d13-852c-6994955880a2"
      },
      "execution_count": 3,
      "outputs": [
        {
          "output_type": "stream",
          "name": "stdout",
          "text": [
            "Nilai anda adalah: 0 \n",
            "\n"
          ]
        }
      ]
    },
    {
      "cell_type": "code",
      "source": [
        "if nilai >= 70:\n",
        "print('Selamat, anda lulus!')\n"
      ],
      "metadata": {
        "colab": {
          "base_uri": "https://localhost:8080/",
          "height": 140
        },
        "id": "gDuH2Lurqgpn",
        "outputId": "4403038a-869a-42c7-a617-267d56baffe9"
      },
      "execution_count": 21,
      "outputs": [
        {
          "output_type": "error",
          "ename": "IndentationError",
          "evalue": "ignored",
          "traceback": [
            "\u001b[0;36m  File \u001b[0;32m\"<ipython-input-21-8826c04fc4bb>\"\u001b[0;36m, line \u001b[0;32m2\u001b[0m\n\u001b[0;31m    print('Selamat, anda lulus!')\u001b[0m\n\u001b[0m    ^\u001b[0m\n\u001b[0;31mIndentationError\u001b[0m\u001b[0;31m:\u001b[0m expected an indented block after 'if' statement on line 1\n"
          ]
        }
      ]
    },
    {
      "cell_type": "code",
      "source": [
        "else:\n",
        "  print:('maaf,anda tidak lulus.')"
      ],
      "metadata": {
        "colab": {
          "base_uri": "https://localhost:8080/",
          "height": 140
        },
        "id": "_2z8HO8bkqHz",
        "outputId": "f35e3f71-6d7d-4275-9f5d-0e6f66aed71f"
      },
      "execution_count": 17,
      "outputs": [
        {
          "output_type": "error",
          "ename": "SyntaxError",
          "evalue": "ignored",
          "traceback": [
            "\u001b[0;36m  File \u001b[0;32m\"<ipython-input-17-d9c6fb50072d>\"\u001b[0;36m, line \u001b[0;32m1\u001b[0m\n\u001b[0;31m    else:\u001b[0m\n\u001b[0m    ^\u001b[0m\n\u001b[0;31mSyntaxError\u001b[0m\u001b[0;31m:\u001b[0m invalid syntax\n"
          ]
        }
      ]
    },
    {
      "cell_type": "code",
      "source": [],
      "metadata": {
        "id": "F3pUeYGxkqKV"
      },
      "execution_count": null,
      "outputs": []
    },
    {
      "cell_type": "code",
      "source": [],
      "metadata": {
        "id": "ajcDsPRLsLBG"
      },
      "execution_count": 28,
      "outputs": []
    },
    {
      "cell_type": "code",
      "source": [
        "else:\n",
        "  print('maaf,anda tidak lulus.')"
      ],
      "metadata": {
        "colab": {
          "base_uri": "https://localhost:8080/",
          "height": 140
        },
        "id": "QXWHsIdPrRBt",
        "outputId": "8657dfc1-2e06-40e6-f341-e5f86c182ee3"
      },
      "execution_count": 23,
      "outputs": [
        {
          "output_type": "error",
          "ename": "SyntaxError",
          "evalue": "ignored",
          "traceback": [
            "\u001b[0;36m  File \u001b[0;32m\"<ipython-input-23-7e12e7f8f86a>\"\u001b[0;36m, line \u001b[0;32m1\u001b[0m\n\u001b[0;31m    else:\u001b[0m\n\u001b[0m    ^\u001b[0m\n\u001b[0;31mSyntaxError\u001b[0m\u001b[0;31m:\u001b[0m invalid syntax\n"
          ]
        }
      ]
    },
    {
      "cell_type": "code",
      "source": [
        "buah_yang_tersedia =['jeruk','mangga','melon']\n",
        "buah_yang_dicari=input('masukan nama buah dalam huruf kecil:manggajeruk melon')"
      ],
      "metadata": {
        "id": "iRWT97BDsMCP",
        "colab": {
          "base_uri": "https://localhost:8080/"
        },
        "outputId": "d3e4a337-f017-4690-a9c7-402f4d953774"
      },
      "execution_count": 28,
      "outputs": [
        {
          "name": "stdout",
          "output_type": "stream",
          "text": [
            "masukan nama buah dalam huruf kecil:manggajeruk melon\n"
          ]
        }
      ]
    },
    {
      "cell_type": "code",
      "source": [
        "if('Buah_yang _dicari  in buah_yang_tersedia'):\n",
        "  print('Buah yang anda cari tersedia')"
      ],
      "metadata": {
        "colab": {
          "base_uri": "https://localhost:8080/"
        },
        "id": "4Xtr3g7ImRKz",
        "outputId": "bab2935b-3f26-4237-988c-0ef8e6a76eae"
      },
      "execution_count": 29,
      "outputs": [
        {
          "output_type": "stream",
          "name": "stdout",
          "text": [
            "Buah yang anda cari tersedia\n"
          ]
        }
      ]
    },
    {
      "cell_type": "code",
      "source": [
        "nilai = int(input('masukkan nilai: '))\n",
        "usia = int(input('masukkan usia: '))"
      ],
      "metadata": {
        "colab": {
          "base_uri": "https://localhost:8080/"
        },
        "id": "rzp2y31xla0M",
        "outputId": "5d92aa12-5f8e-49bc-c427-58dff7bb53dd"
      },
      "execution_count": 31,
      "outputs": [
        {
          "name": "stdout",
          "output_type": "stream",
          "text": [
            "masukkan nilai: 99\n",
            "masukkan usia: 19\n"
          ]
        }
      ]
    },
    {
      "cell_type": "code",
      "source": [
        "if nilai >= 75:\n",
        "  if (usia < 5):\n",
        "     print('selamat dedek, kamu lulus! ')\n",
        "  else:\n",
        "    print('selamat dedek, kamu lulus! ')"
      ],
      "metadata": {
        "colab": {
          "base_uri": "https://localhost:8080/"
        },
        "id": "wumPunP-nxiV",
        "outputId": "70d082a9-6528-40e4-e573-861956bf59c9"
      },
      "execution_count": 40,
      "outputs": [
        {
          "output_type": "stream",
          "name": "stdout",
          "text": [
            "selamat dedek, kamu lulus! \n"
          ]
        }
      ]
    },
    {
      "cell_type": "code",
      "source": [],
      "metadata": {
        "id": "f9XiYICanyhQ"
      },
      "execution_count": null,
      "outputs": []
    }
  ]
}